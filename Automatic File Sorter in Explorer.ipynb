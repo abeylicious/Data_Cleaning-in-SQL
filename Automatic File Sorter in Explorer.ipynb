{
 "cells": [
  {
   "cell_type": "code",
   "execution_count": 5,
   "id": "99f2baa2-0dfd-4ce6-88b4-605706436158",
   "metadata": {},
   "outputs": [],
   "source": [
    "import os,shutil"
   ]
  },
  {
   "cell_type": "code",
   "execution_count": 47,
   "id": "0f59ab3b-3d80-4bbf-9e2b-224ff539f808",
   "metadata": {},
   "outputs": [],
   "source": [
    "#Assign a the path of the directory containing files for sorting in a variable\n",
    "path = r\"C:/Users/BG COMPUTERS/Downloads/\""
   ]
  },
  {
   "cell_type": "code",
   "execution_count": 48,
   "id": "60beb6ac-d589-4e76-bb24-6ebc851739e4",
   "metadata": {},
   "outputs": [
    {
     "data": {
      "text/plain": [
       "['202440662414JA_Iyanda.pdf',\n",
       " '458285504_477307725130935_3364170358162562663_n.mp4',\n",
       " '4ddig-for-windows_11726280073332370301.exe',\n",
       " 'Abiodun Iyanda Flipper Agreement (1).pdf',\n",
       " 'Abiodun Iyanda Flipper Agreement.pdf',\n",
       " 'Abiodun_Iyanda.docx',\n",
       " 'Abiodun_Iyanda.pdf',\n",
       " 'Abiodun_Iyanda_Service_Contract_SBP_Induction_03NOV24_to_09NOV24 - Signed.pdf',\n",
       " 'AC_IYANDA ABIODUN ADEOLA_JULY, 2024_402467155_FullStmt-unlocked.pdf',\n",
       " 'AC_IYANDA ABIODUN ADEOLA_JULY, 2024_402467155_FullStmt.pdf',\n",
       " 'ajol-file-journals_181_articles_28671_submission_proof_28671-2161-51135-1-10-20090106 (1).pdf',\n",
       " 'ajol-file-journals_181_articles_28671_submission_proof_28671-2161-51135-1-10-20090106.pdf',\n",
       " 'An89x1OxMgcpcEXw_2YvtEbIG8MNb_jaucp2XWqE_No97uZWuD3ZwrK7qUjUaCYIrOQcOdc2R8NfdPFSA63VLmM.mp4',\n",
       " 'An9QLhcufHW_1rMSxCwiic4erjyYxHGlTQmnZpMxVK3YfiUOqSCgdrwSAIUi3TVXSjjyB6_9bJ-W-oXDOI9V8Mas.mp4',\n",
       " 'Anaconda3-2024.06-1-Windows-x86_64 (1).exe',\n",
       " 'archive (1).zip',\n",
       " 'archive (2).zip',\n",
       " 'archive (3).zip',\n",
       " 'archive.zip',\n",
       " 'August&September Midweek Meeting.docx',\n",
       " 'Check Out Form_Abiodun Iyanda - Completed.pdf',\n",
       " 'Check Out Form_Abiodun Iyanda_Logsector_admin.pdf',\n",
       " 'Check Out Form_Abiodun Iyanda_Logsector_admin_IT.pdf',\n",
       " 'Check Out Form_Abiodun Iyanda_Logsector_admin_IT_finance.pdf',\n",
       " 'Check Out Form_Abiodun Iyanda_Logsector_admin_IT_finance_security.pdf',\n",
       " 'Data Analyst Interview Questions.docx',\n",
       " 'Data Analytics Bootcamp Certification of Completion.png',\n",
       " 'desktop.ini',\n",
       " 'docx_files',\n",
       " 'ExcelDna.XFunctions64.xll',\n",
       " 'excel_files',\n",
       " 'Excel_Productivity_Tips.xlsx',\n",
       " 'html5up-massively.zip',\n",
       " 'IELTS (1).jpg',\n",
       " 'IELTS (2).jpg',\n",
       " 'IELTS (3).jpg',\n",
       " 'IELTS.jpg',\n",
       " 'immapinc_newservicecontractsurgerostermemberattend.zip',\n",
       " 'IYANDA ABIODUN_DBF.pdf',\n",
       " 'July2_2024-merged.pdf',\n",
       " 'July_2024.pdf',\n",
       " 'jwbcov_E_201905_06_r240P.mp4',\n",
       " 'lmdv_E_04_r240P.mp4',\n",
       " 'Make Changes to Your Github Page Website.mp4',\n",
       " 'MITx14 310x V001100 DTH 1.mp4',\n",
       " 'Motivation _Letter_Abiodun_Iyanda .doc',\n",
       " 'Ms. Abiodun Adeola Iyanda (1).pdf',\n",
       " 'Ms. Abiodun Adeola Iyanda.pdf',\n",
       " 'Music - Shortcut.lnk',\n",
       " 'Outlook-LinkedIn i.png',\n",
       " 'owid-covid-data.csv',\n",
       " 'Payment_RYNWVKP5.pdf',\n",
       " 'PBIDesktopSetup_x64.exe',\n",
       " 'pdf_files',\n",
       " 'Python-20240815T172111Z-001.zip',\n",
       " 'restatementofaccount.zip',\n",
       " 'Resume (2).docx',\n",
       " 'Sales.csv.zip',\n",
       " 'Sample Resume 2.docx',\n",
       " 'Sample Resume.docx',\n",
       " 'sample_-_superstore.xls',\n",
       " 'SQL2019-SSEI-Expr (1).exe',\n",
       " 'SQL2019-SSEI-Expr.exe',\n",
       " 'SSMS-Setup-ENU.exe',\n",
       " 'Tableau Joins File.xlsx',\n",
       " 'tableau2.JPG',\n",
       " 'TeamsSetupx64_s_8DCBB7571C8647E-3-0_c_w_.exe',\n",
       " 'videoplayback (1).mp4',\n",
       " 'videoplayback (2).mp4',\n",
       " 'videoplayback (3).mp4',\n",
       " 'videoplayback (4).mp4',\n",
       " 'videoplayback (5).mp4',\n",
       " 'videoplayback (6).mp4',\n",
       " 'videoplayback.mp4',\n",
       " 'videoplayback.mp4.crdownload',\n",
       " 'video_files',\n",
       " 'VSCodeUserSetup-x64-1.93.0 (1).exe',\n",
       " 'VSCodeUserSetup-x64-1.93.0 (2).exe',\n",
       " 'VSCodeUserSetup-x64-1.93.0 (3).exe',\n",
       " 'VSCodeUserSetup-x64-1.93.0.exe',\n",
       " '_ibank3_IB_FX_Request_files_IBRecpt-3484012-4024671551590_23Aug2024_23082024 (1).pdf',\n",
       " '_ibank3_IB_FX_Request_files_IBRecpt-3875055-4024671551590_13Sep2024_13092024.pdf',\n",
       " '_ibank3_IB_FX_Request_files_IBRecpt-5671964-4024671551590_29Aug2024_29082024.pdf',\n",
       " '_ibank3_IB_FX_Request_files_IBRecpt-7921282-4024671551590_21Aug2024_21082024 (1).pdf',\n",
       " '_ibank3_IB_FX_Request_files_IBRecpt-7921282-4024671551590_21Aug2024_21082024 (2).pdf',\n",
       " '_ibank3_IB_FX_Request_files_IBRecpt-7921282-4024671551590_21Aug2024_21082024.pdf',\n",
       " '_ibank3_IB_FX_Request_files_IBRecpt-8088025-4024671551590_21Aug2024_21082024.pdf']"
      ]
     },
     "execution_count": 48,
     "metadata": {},
     "output_type": "execute_result"
    }
   ],
   "source": [
    "# list all the files in variable -'path'\n",
    "os.listdir(path)"
   ]
  },
  {
   "cell_type": "code",
   "execution_count": 49,
   "id": "4673a328-2d62-4bca-a9ab-8cb147070348",
   "metadata": {},
   "outputs": [
    {
     "data": {
      "text/plain": [
       "False"
      ]
     },
     "execution_count": 49,
     "metadata": {},
     "output_type": "execute_result"
    }
   ],
   "source": [
    "# Checking if the path exists\n",
    "os.path.exists(path + 'csv files')"
   ]
  },
  {
   "cell_type": "code",
   "execution_count": 52,
   "id": "2ec447d9-64cf-473c-9647-001a43b82cf6",
   "metadata": {},
   "outputs": [],
   "source": [
    "# create a list of files and check if it already exists in the path\n",
    "folder_names= ['excel_files','pdf_files','videos_files','docx_files']\n",
    "for loop in range(0,4):\n",
    "  os.path.exists(path + folder_names[loop] ) "
   ]
  },
  {
   "cell_type": "code",
   "execution_count": 53,
   "id": "90365f61-0d88-4500-8f65-631a33eaace5",
   "metadata": {},
   "outputs": [],
   "source": [
    "# if it doesnt exist, we can then create the folders, to make this work use a forward slash on the path\n",
    "folder_names= ['excel_files','pdf_files','video_files','docx_files']\n",
    "for loop in range(0,4):\n",
    "   if not os.path.exists(path + folder_names[loop]):\n",
    "       os.makedirs(path + folder_names[loop])"
   ]
  },
  {
   "cell_type": "code",
   "execution_count": 54,
   "id": "37fbb184-7f21-4a02-b062-048935a45ecb",
   "metadata": {},
   "outputs": [],
   "source": [
    "# looping through the path to move to respective folders\n",
    "file_name = os.listdir(path)"
   ]
  },
  {
   "cell_type": "code",
   "execution_count": 26,
   "id": "8ff8a7ad-17f2-43d7-b292-b111409a4aed",
   "metadata": {},
   "outputs": [
    {
     "data": {
      "text/plain": [
       "['202440662414JA_Iyanda.pdf',\n",
       " '458285504_477307725130935_3364170358162562663_n.mp4',\n",
       " '4ddig-for-windows_11726280073332370301.exe',\n",
       " 'Abiodun Iyanda Flipper Agreement (1).pdf',\n",
       " 'Abiodun Iyanda Flipper Agreement.pdf',\n",
       " 'Abiodun_Iyanda.docx',\n",
       " 'Abiodun_Iyanda.pdf',\n",
       " 'Abiodun_Iyanda_Service_Contract_SBP_Induction_03NOV24_to_09NOV24 - Signed.pdf',\n",
       " 'AC_IYANDA ABIODUN ADEOLA_JULY, 2024_402467155_FullStmt-unlocked.pdf',\n",
       " 'AC_IYANDA ABIODUN ADEOLA_JULY, 2024_402467155_FullStmt.pdf',\n",
       " 'ajol-file-journals_181_articles_28671_submission_proof_28671-2161-51135-1-10-20090106 (1).pdf',\n",
       " 'ajol-file-journals_181_articles_28671_submission_proof_28671-2161-51135-1-10-20090106.pdf',\n",
       " 'An89x1OxMgcpcEXw_2YvtEbIG8MNb_jaucp2XWqE_No97uZWuD3ZwrK7qUjUaCYIrOQcOdc2R8NfdPFSA63VLmM.mp4',\n",
       " 'An9QLhcufHW_1rMSxCwiic4erjyYxHGlTQmnZpMxVK3YfiUOqSCgdrwSAIUi3TVXSjjyB6_9bJ-W-oXDOI9V8Mas.mp4',\n",
       " 'Anaconda3-2024.06-1-Windows-x86_64 (1).exe',\n",
       " 'archive (1).zip',\n",
       " 'archive (2).zip',\n",
       " 'archive (3).zip',\n",
       " 'archive.zip',\n",
       " 'August&September Midweek Meeting.docx',\n",
       " 'Check Out Form_Abiodun Iyanda - Completed.pdf',\n",
       " 'Check Out Form_Abiodun Iyanda_Logsector_admin.pdf',\n",
       " 'Check Out Form_Abiodun Iyanda_Logsector_admin_IT.pdf',\n",
       " 'Check Out Form_Abiodun Iyanda_Logsector_admin_IT_finance.pdf',\n",
       " 'Check Out Form_Abiodun Iyanda_Logsector_admin_IT_finance_security.pdf',\n",
       " 'Data Analyst Interview Questions.docx',\n",
       " 'Data Analytics Bootcamp Certification of Completion.png',\n",
       " 'desktop.ini',\n",
       " 'docx_files',\n",
       " 'ExcelDna.XFunctions64.xll',\n",
       " 'excel_files',\n",
       " 'Excel_Productivity_Tips.xlsx',\n",
       " 'html5up-massively.zip',\n",
       " 'IELTS (1).jpg',\n",
       " 'IELTS (2).jpg',\n",
       " 'IELTS (3).jpg',\n",
       " 'IELTS.jpg',\n",
       " 'immapinc_newservicecontractsurgerostermemberattend.zip',\n",
       " 'IYANDA ABIODUN_DBF.pdf',\n",
       " 'July2_2024-merged.pdf',\n",
       " 'July_2024.pdf',\n",
       " 'jwbcov_E_201905_06_r240P.mp4',\n",
       " 'lmdv_E_04_r240P.mp4',\n",
       " 'Make Changes to Your Github Page Website.mp4',\n",
       " 'MITx14 310x V001100 DTH 1.mp4',\n",
       " 'Motivation _Letter_Abiodun_Iyanda .doc',\n",
       " 'Ms. Abiodun Adeola Iyanda (1).pdf',\n",
       " 'Ms. Abiodun Adeola Iyanda.pdf',\n",
       " 'Music - Shortcut.lnk',\n",
       " 'Outlook-LinkedIn i.png',\n",
       " 'owid-covid-data.csv',\n",
       " 'Payment_RYNWVKP5.pdf',\n",
       " 'PBIDesktopSetup_x64.exe',\n",
       " 'pdf_files',\n",
       " 'Python-20240815T172111Z-001.zip',\n",
       " 'restatementofaccount.zip',\n",
       " 'Resume (2).docx',\n",
       " 'Sales.csv.zip',\n",
       " 'Sample Resume 2.docx',\n",
       " 'Sample Resume.docx',\n",
       " 'sample_-_superstore.xls',\n",
       " 'SQL2019-SSEI-Expr (1).exe',\n",
       " 'SQL2019-SSEI-Expr.exe',\n",
       " 'SSMS-Setup-ENU.exe',\n",
       " 'Tableau Joins File.xlsx',\n",
       " 'tableau2.JPG',\n",
       " 'TeamsSetupx64_s_8DCBB7571C8647E-3-0_c_w_.exe',\n",
       " 'videoplayback (1).mp4',\n",
       " 'videoplayback (2).mp4',\n",
       " 'videoplayback (3).mp4',\n",
       " 'videoplayback (4).mp4',\n",
       " 'videoplayback (5).mp4',\n",
       " 'videoplayback (6).mp4',\n",
       " 'videoplayback.mp4',\n",
       " 'videoplayback.mp4.crdownload',\n",
       " 'video_files',\n",
       " 'VSCodeUserSetup-x64-1.93.0 (1).exe',\n",
       " 'VSCodeUserSetup-x64-1.93.0 (2).exe',\n",
       " 'VSCodeUserSetup-x64-1.93.0 (3).exe',\n",
       " 'VSCodeUserSetup-x64-1.93.0.exe',\n",
       " '_ibank3_IB_FX_Request_files_IBRecpt-3484012-4024671551590_23Aug2024_23082024 (1).pdf',\n",
       " '_ibank3_IB_FX_Request_files_IBRecpt-3875055-4024671551590_13Sep2024_13092024.pdf',\n",
       " '_ibank3_IB_FX_Request_files_IBRecpt-5671964-4024671551590_29Aug2024_29082024.pdf',\n",
       " '_ibank3_IB_FX_Request_files_IBRecpt-7921282-4024671551590_21Aug2024_21082024 (1).pdf',\n",
       " '_ibank3_IB_FX_Request_files_IBRecpt-7921282-4024671551590_21Aug2024_21082024 (2).pdf',\n",
       " '_ibank3_IB_FX_Request_files_IBRecpt-7921282-4024671551590_21Aug2024_21082024.pdf',\n",
       " '_ibank3_IB_FX_Request_files_IBRecpt-8088025-4024671551590_21Aug2024_21082024.pdf',\n",
       " '~$gust&September Midweek Meeting.docx',\n",
       " '~$R - SEARO.docx']"
      ]
     },
     "execution_count": 26,
     "metadata": {},
     "output_type": "execute_result"
    }
   ],
   "source": [
    "file_name"
   ]
  },
  {
   "cell_type": "code",
   "execution_count": 55,
   "id": "1749965c-6c24-4166-bd02-d4304e3715f7",
   "metadata": {},
   "outputs": [],
   "source": [
    "for file in file_name:\n",
    "    if 'csv' in file and not os.path.exists(path + 'excel_files/'+file):\n",
    "        shutil.move(path+file,path + 'excel_files/'+file)\n",
    "    if 'xls' in file and not os.path.exists(path + 'excel_files/'+file):\n",
    "        shutil.move(path+file,path + 'excel_files/'+file)\n",
    "    if 'xlsx' in file and not os.path.exists(path + 'excel_files/'+file):\n",
    "        shutil.move(path+file,path + 'excel_files/'+file)\n",
    "    if 'pdf' in file and not os.path.exists(path + 'pdf_files/'+file):\n",
    "        shutil.move(path + file, path + 'pdf_files/') \n",
    "    elif 'mp4' in file and not os.path.exists(path + 'video_files/'+file):\n",
    "        shutil.move(path + file, path + 'video_files/') \n",
    "    elif 'docx' in file and not os.path.exists(path + 'docx_files/'+file):\n",
    "        shutil.move(path + file, path + 'docx_files/') \n",
    "    elif 'exe' in file and not os.path.exists(path + 'docx_files/'+file):\n",
    "        shutil.move(path + file, path + 'docx_files/') \n",
    "    elif 'jpg' in file and not os.path.exists(path + 'video_files/'+file):\n",
    "        shutil.move(path + file, path + 'video_files/') \n",
    "    elif 'png' in file and not os.path.exists(path + 'video_files/'+file):\n",
    "        shutil.move(path + file, path + 'video_files/') "
   ]
  },
  {
   "cell_type": "code",
   "execution_count": null,
   "id": "4026aee2-cf3e-46fb-af42-a8045a922adb",
   "metadata": {},
   "outputs": [],
   "source": []
  }
 ],
 "metadata": {
  "kernelspec": {
   "display_name": "Python 3 (ipykernel)",
   "language": "python",
   "name": "python3"
  },
  "language_info": {
   "codemirror_mode": {
    "name": "ipython",
    "version": 3
   },
   "file_extension": ".py",
   "mimetype": "text/x-python",
   "name": "python",
   "nbconvert_exporter": "python",
   "pygments_lexer": "ipython3",
   "version": "3.12.4"
  }
 },
 "nbformat": 4,
 "nbformat_minor": 5
}
