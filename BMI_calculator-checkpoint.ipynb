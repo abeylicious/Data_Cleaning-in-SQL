{
 "cells": [
  {
   "cell_type": "code",
   "execution_count": 1,
   "id": "0b7793de-48cf-49f0-a34e-fe3df1fb711e",
   "metadata": {},
   "outputs": [
    {
     "name": "stdin",
     "output_type": "stream",
     "text": [
      "Enter your name: Abiodun Iyanda\n",
      "Enter your weight in pounds: 162\n",
      "Enter your height in inches: 60\n"
     ]
    },
    {
     "ename": "TypeError",
     "evalue": "can't multiply sequence by non-int of type 'str'",
     "output_type": "error",
     "traceback": [
      "\u001b[1;31m---------------------------------------------------------------------------\u001b[0m",
      "\u001b[1;31mTypeError\u001b[0m                                 Traceback (most recent call last)",
      "Cell \u001b[1;32mIn[1], line 4\u001b[0m\n\u001b[0;32m      2\u001b[0m weight\u001b[38;5;241m=\u001b[39m\u001b[38;5;28minput\u001b[39m(\u001b[38;5;124m'\u001b[39m\u001b[38;5;124mEnter your weight in pounds:\u001b[39m\u001b[38;5;124m'\u001b[39m)\n\u001b[0;32m      3\u001b[0m height\u001b[38;5;241m=\u001b[39m\u001b[38;5;28minput\u001b[39m(\u001b[38;5;124m'\u001b[39m\u001b[38;5;124mEnter your height in inches:\u001b[39m\u001b[38;5;124m'\u001b[39m)\n\u001b[1;32m----> 4\u001b[0m BMI \u001b[38;5;241m=\u001b[39m(weight \u001b[38;5;241m*\u001b[39m \u001b[38;5;241m703\u001b[39m) \u001b[38;5;241m/\u001b[39m(height \u001b[38;5;241m*\u001b[39mheight)\n",
      "\u001b[1;31mTypeError\u001b[0m: can't multiply sequence by non-int of type 'str'"
     ]
    }
   ],
   "source": [
    "\n"
   ]
  },
  {
   "cell_type": "code",
   "execution_count": 40,
   "id": "252f3e67-ddc4-4f97-bf94-d302e355bcae",
   "metadata": {},
   "outputs": [
    {
     "name": "stdin",
     "output_type": "stream",
     "text": [
      "Enter your name: Abbie\n",
      "Enter your weight in pounds: 170\n",
      "Enter your height in inches: 67\n"
     ]
    },
    {
     "name": "stdout",
     "output_type": "stream",
     "text": [
      "26.62285586990421\n",
      "Abbie You're overweight.\n"
     ]
    }
   ],
   "source": [
    " # to avert the error, convert the weight and height input into integers\n",
    "name = input('Enter your name:')\n",
    "weight=int(input('Enter your weight in pounds:'))\n",
    "height=int(input('Enter your height in inches:'))\n",
    "BMI = (weight * 703) / (height * height)\n",
    "print(BMI)\n",
    "if BMI>0:\n",
    "    if BMI<18.5:\n",
    "        print(name +\" You're underweight.\")\n",
    "    elif BMI < 24.9 :\n",
    "        print(name +\" You're normal weight.\")\n",
    "    elif BMI < 29.9 :\n",
    "        print(name +\" You're overweight.\") \n",
    "    elif BMI < 34.9:\n",
    "        print(name+\" You're obese.\")\n",
    "    elif BMI < 39.9:\n",
    "        print(name +\" You're severly obese.\")\n",
    "    else:\n",
    "        print(name +\" You're morbidity obese.\")\n",
    "else:\n",
    "    print(\"Invalid inputs\")\n",
    "        "
   ]
  },
  {
   "cell_type": "code",
   "execution_count": 24,
   "id": "3f819c8c-d85f-414b-872d-6356c58a13d2",
   "metadata": {},
   "outputs": [
    {
     "data": {
      "text/plain": [
       "int"
      ]
     },
     "execution_count": 24,
     "metadata": {},
     "output_type": "execute_result"
    }
   ],
   "source": []
  },
  {
   "cell_type": "code",
   "execution_count": null,
   "id": "3c552dc9-e81e-40e9-be37-07ae11e3c92f",
   "metadata": {},
   "outputs": [],
   "source": []
  },
  {
   "cell_type": "code",
   "execution_count": null,
   "id": "cd9bc777-6a4a-4c8e-9fa5-da87d9d48f30",
   "metadata": {},
   "outputs": [],
   "source": []
  },
  {
   "cell_type": "code",
   "execution_count": null,
   "id": "d272d169-7bc9-40a1-bcb5-3c57d010ab50",
   "metadata": {},
   "outputs": [],
   "source": []
  },
  {
   "cell_type": "code",
   "execution_count": 36,
   "id": "3634d197-aec7-4d5b-a3c3-683ecb71163d",
   "metadata": {},
   "outputs": [
    {
     "name": "stdout",
     "output_type": "stream",
     "text": [
      "name You're obese.\n"
     ]
    }
   ],
   "source": [
    "if BMI>0:\n",
    "    if BMI<18.5:\n",
    "        print(\"name\" +\" You're underweight.\")\n",
    "    elif BMI < 24.9 :\n",
    "        print(\"name\" +\" You're normal weight.\")\n",
    "    elif BMI < 29.9 :\n",
    "        print(\"name\" +\" You're overweight.\") \n",
    "    elif BMI < 34.9:\n",
    "        print(\"name\"+\" You're obese.\")\n",
    "    elif BMI < 39.9:\n",
    "        print(\"name\" +\" You're severly obese.\")\n",
    "    else:\n",
    "        print(\"name\" +\" You're morbidity obese.\")\n",
    "else:\n",
    "    print(\"Invalid inputs\")\n",
    "        "
   ]
  },
  {
   "cell_type": "code",
   "execution_count": null,
   "id": "442d0830-49f8-4411-bf76-0c127995dd89",
   "metadata": {},
   "outputs": [],
   "source": []
  }
 ],
 "metadata": {
  "kernelspec": {
   "display_name": "Python 3 (ipykernel)",
   "language": "python",
   "name": "python3"
  },
  "language_info": {
   "codemirror_mode": {
    "name": "ipython",
    "version": 3
   },
   "file_extension": ".py",
   "mimetype": "text/x-python",
   "name": "python",
   "nbconvert_exporter": "python",
   "pygments_lexer": "ipython3",
   "version": "3.12.4"
  }
 },
 "nbformat": 4,
 "nbformat_minor": 5
}
